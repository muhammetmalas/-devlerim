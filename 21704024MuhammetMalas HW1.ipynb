{
 "cells": [
  {
   "cell_type": "code",
   "execution_count": 3,
   "metadata": {},
   "outputs": [
    {
     "name": "stdout",
     "output_type": "stream",
     "text": [
      " A değerini giriniz 1\n",
      " B değerini giriniz 1\n",
      " C değerini giriniz 1\n",
      "birinici kökümüz:  (-0.49999999999999994+0.8660254037844386j)\n",
      "ikinci kökümüz:  (-0.5-0.8660254037844386j)\n"
     ]
    }
   ],
   "source": [
    "a = int(input(' A değerini giriniz '))\n",
    "b = int(input(' B değerini giriniz '))\n",
    "c = int(input(' C değerini giriniz '))\n",
    "\n",
    "diskriminant=b**2-4*a*c\n",
    "birinci_kok=(-b + diskriminant ** 0.5) / (2*a)\n",
    "ikinci_kok=(-b - diskriminant ** 0.5) / (2*a)\n",
    "\n",
    "print('birinici kökümüz: ' ,birinci_kok)\n",
    "print('ikinci kökümüz: ' ,ikinci_kok)\n"
   ]
  },
  {
   "cell_type": "code",
   "execution_count": null,
   "metadata": {},
   "outputs": [],
   "source": []
  }
 ],
 "metadata": {
  "kernelspec": {
   "display_name": "Python 3",
   "language": "python",
   "name": "python3"
  },
  "language_info": {
   "codemirror_mode": {
    "name": "ipython",
    "version": 3
   },
   "file_extension": ".py",
   "mimetype": "text/x-python",
   "name": "python",
   "nbconvert_exporter": "python",
   "pygments_lexer": "ipython3",
   "version": "3.6.5"
  }
 },
 "nbformat": 4,
 "nbformat_minor": 2
}
