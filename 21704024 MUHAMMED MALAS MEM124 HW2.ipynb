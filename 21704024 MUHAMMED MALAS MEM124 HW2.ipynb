{
 "cells": [
  {
   "cell_type": "code",
   "execution_count": 8,
   "metadata": {},
   "outputs": [
    {
     "name": "stdout",
     "output_type": "stream",
     "text": [
      "Bu 3 yoldan birini seçiniz: \n",
      "1. yol : Hipotenüs bulunacak \n",
      " \n",
      "2. yol : 0 ile sizin sayınız arasındaki sayılar bulunacak \n",
      " \n",
      "3. yol : gireceğiniz 6 sayının aritmetik ortalaması bulunacak \n",
      " \n",
      "izleyeceğiniz yolu seçiniz: 5\n",
      "sistemi yeniden başlatın...\n"
     ]
    }
   ],
   "source": [
    "print(\"Bu 3 yoldan birini seçiniz: \")\n",
    "print(\"1. yol : Hipotenüs bulunacak \\n \")\n",
    "print(\"2. yol : 0 ile sizin sayınız arasındaki sayılar bulunacak \\n \")\n",
    "print(\"3. yol : gireceğiniz 6 sayının aritmetik ortalaması bulunacak \\n \")\n",
    "\n",
    "yol=int(input(\"izleyeceğiniz yolu seçiniz: \"))\n",
    "\n",
    "if yol==1 : \n",
    "    print(\"Hipotenüs hesaplanacak ...\")\n",
    "    \n",
    "    a=int(input(\"A değerini giriniz: \"))\n",
    "    b=int(input(\"B değerini giriniz\"))\n",
    "    c=(a**2+b**2)**0.5\n",
    "    print(\" hipotenüsümüz: \" ,c)\n",
    "\n",
    "elif yol==2 : \n",
    "    print(\"0 ile sizin sayınız arasındaki sayılar bulunacak\")\n",
    "    d=int(input(\"sayı giriniz: \"))\n",
    "    while d>0:\n",
    "        print(\"sayımız: \",d)\n",
    "        if d == 1:\n",
    "          break \n",
    "        d -= 1\n",
    "elif yol ==3: \n",
    "    print(\"aritmetik ortalama bulunacak\")\n",
    "    x1=int(input(\"sayı giriniz: \"))\n",
    "    x2=int(input(\"sayı giriniz: \"))\n",
    "    x3=int(input(\"sayı giriniz: \"))\n",
    "    x4=int(input(\"sayı giriniz: \"))\n",
    "    x5=int(input(\"sayı giriniz: \"))\n",
    "    x6=int(input(\"sayı giriniz: \"))\n",
    "    cevap=(x1+x2+x3+x4+x5+x6)/6\n",
    "    print(\"aritmetik ortalama: \",cevap)\n",
    "else:\n",
    "    print(\"sistemi yeniden başlatın...\")"
   ]
  },
  {
   "cell_type": "code",
   "execution_count": null,
   "metadata": {},
   "outputs": [],
   "source": []
  }
 ],
 "metadata": {
  "kernelspec": {
   "display_name": "Python 3",
   "language": "python",
   "name": "python3"
  },
  "language_info": {
   "codemirror_mode": {
    "name": "ipython",
    "version": 3
   },
   "file_extension": ".py",
   "mimetype": "text/x-python",
   "name": "python",
   "nbconvert_exporter": "python",
   "pygments_lexer": "ipython3",
   "version": "3.6.5"
  }
 },
 "nbformat": 4,
 "nbformat_minor": 2
}
